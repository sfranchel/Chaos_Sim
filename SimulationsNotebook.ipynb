{
 "cells": [
  {
   "cell_type": "code",
   "execution_count": null,
   "id": "539497d7",
   "metadata": {},
   "outputs": [],
   "source": [
    "# To run notebook on colab:\n",
    "# 1) load this notebook in colab\n",
    "# 2) Mount your google drive\n",
    "# 3) Create a \"modules\" foler in your \"Colab_Notebooks\" folder\n",
    "#    and upload there the GUIS and Simulator modules\n",
    "# 4) Uncomment the block of code below\n",
    "\n",
    "'''\n",
    "from google.colab import output\n",
    "import sys\n",
    "\n",
    "# Add path for custom modules \n",
    "# (N.B. default naming is \"Colab Notebooks\", need to remove white space)\n",
    "module_path =\"/content/drive/MyDrive/Colab_Notebooks/modules\"\n",
    "sys.path.append(module_path)\n",
    "\n",
    "# Download library for widgets and enable them in colab\n",
    "!pip install ipympl\n",
    "output.enable_custom_widget_manager()\n",
    "output.clear()\n",
    "'''"
   ]
  },
  {
   "cell_type": "code",
   "execution_count": null,
   "id": "d8ffeac1",
   "metadata": {
    "ExecuteTime": {
     "end_time": "2023-10-07T16:45:49.936895Z",
     "start_time": "2023-10-07T16:45:49.454211Z"
    }
   },
   "outputs": [],
   "source": [
    "import matplotlib\n",
    "%matplotlib widget"
   ]
  },
  {
   "cell_type": "code",
   "execution_count": null,
   "id": "a42191fc",
   "metadata": {
    "ExecuteTime": {
     "end_time": "2023-10-07T16:47:40.253192Z",
     "start_time": "2023-10-07T16:47:40.032791Z"
    }
   },
   "outputs": [],
   "source": [
    "# %load_ext autoreload\n",
    "# %autoreload 2\n",
    "\n",
    "import GUIS"
   ]
  },
  {
   "cell_type": "code",
   "execution_count": null,
   "id": "1ce3fbb1",
   "metadata": {
    "ExecuteTime": {
     "end_time": "2023-10-07T16:47:48.132900Z",
     "start_time": "2023-10-07T16:47:48.093887Z"
    }
   },
   "outputs": [],
   "source": [
    "GUIS.simple_evolution"
   ]
  },
  {
   "cell_type": "code",
   "execution_count": null,
   "id": "ebcf4ccd",
   "metadata": {
    "ExecuteTime": {
     "end_time": "2023-10-07T16:48:56.750152Z",
     "start_time": "2023-10-07T16:48:56.712263Z"
    }
   },
   "outputs": [],
   "source": [
    "GUIS.bifurcation"
   ]
  },
  {
   "cell_type": "code",
   "execution_count": null,
   "id": "73aad74b",
   "metadata": {
    "ExecuteTime": {
     "end_time": "2023-10-07T16:49:05.366390Z",
     "start_time": "2023-10-07T16:49:05.327004Z"
    }
   },
   "outputs": [],
   "source": [
    "GUIS.poincare"
   ]
  }
 ],
 "metadata": {
  "kernelspec": {
   "display_name": "Python 3 (ipykernel)",
   "language": "python",
   "name": "python3"
  },
  "language_info": {
   "codemirror_mode": {
    "name": "ipython",
    "version": 3
   },
   "file_extension": ".py",
   "mimetype": "text/x-python",
   "name": "python",
   "nbconvert_exporter": "python",
   "pygments_lexer": "ipython3",
   "version": "3.8.10"
  },
  "latex_envs": {
   "LaTeX_envs_menu_present": true,
   "autoclose": false,
   "autocomplete": true,
   "bibliofile": "biblio.bib",
   "cite_by": "apalike",
   "current_citInitial": 1,
   "eqLabelWithNumbers": true,
   "eqNumInitial": 1,
   "hotkeys": {
    "equation": "Ctrl-E",
    "itemize": "Ctrl-I"
   },
   "labels_anchors": false,
   "latex_user_defs": false,
   "report_style_numbering": false,
   "user_envs_cfg": false
  },
  "toc": {
   "base_numbering": 1,
   "nav_menu": {},
   "number_sections": true,
   "sideBar": true,
   "skip_h1_title": false,
   "title_cell": "Table of Contents",
   "title_sidebar": "Contents",
   "toc_cell": false,
   "toc_position": {},
   "toc_section_display": true,
   "toc_window_display": false
  }
 },
 "nbformat": 4,
 "nbformat_minor": 5
}
