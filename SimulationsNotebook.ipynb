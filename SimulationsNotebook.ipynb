{
 "cells": [
  {
   "cell_type": "code",
   "execution_count": 1,
   "id": "02483310",
   "metadata": {
    "ExecuteTime": {
     "end_time": "2023-03-12T17:06:33.408157Z",
     "start_time": "2023-03-12T17:06:32.993295Z"
    }
   },
   "outputs": [],
   "source": [
    "import matplotlib\n",
    "%matplotlib widget"
   ]
  },
  {
   "cell_type": "markdown",
   "id": "d65c3e98",
   "metadata": {},
   "source": [
    "# Time Evolution Simulation"
   ]
  },
  {
   "cell_type": "code",
   "execution_count": 4,
   "id": "43e897f9",
   "metadata": {
    "ExecuteTime": {
     "end_time": "2023-03-12T17:04:57.372272Z",
     "start_time": "2023-03-12T17:04:57.345200Z"
    }
   },
   "outputs": [
    {
     "data": {
      "application/vnd.jupyter.widget-view+json": {
       "model_id": "6aca17dd60804696a07fe5e0c74977c0",
       "version_major": 2,
       "version_minor": 0
      },
      "text/plain": [
       "GridspecLayout(children=(Button(description='Run', layout=Layout(grid_area='widget001', height='auto', width='…"
      ]
     },
     "execution_count": 4,
     "metadata": {},
     "output_type": "execute_result"
    }
   ],
   "source": [
    "from GUIS.simple_evolution import GUI\n",
    "GUI"
   ]
  },
  {
   "cell_type": "code",
   "execution_count": null,
   "id": "45a62cc7",
   "metadata": {
    "ExecuteTime": {
     "end_time": "2023-03-12T17:03:59.868644Z",
     "start_time": "2023-03-12T17:03:59.852639Z"
    }
   },
   "outputs": [],
   "source": []
  },
  {
   "cell_type": "markdown",
   "id": "73f256fe",
   "metadata": {},
   "source": [
    "# Phase Bifurcation Simulation"
   ]
  },
  {
   "cell_type": "code",
   "execution_count": 2,
   "id": "ff64bd13",
   "metadata": {
    "ExecuteTime": {
     "end_time": "2023-03-12T17:06:36.260246Z",
     "start_time": "2023-03-12T17:06:36.170701Z"
    }
   },
   "outputs": [
    {
     "data": {
      "application/vnd.jupyter.widget-view+json": {
       "model_id": "bc242120bc814197951579eece793779",
       "version_major": 2,
       "version_minor": 0
      },
      "text/plain": [
       "GridspecLayout(children=(Button(description='Run', layout=Layout(grid_area='widget001', height='auto', width='…"
      ]
     },
     "execution_count": 2,
     "metadata": {},
     "output_type": "execute_result"
    }
   ],
   "source": [
    "from GUIS.bifurcation import GUI\n",
    "GUI"
   ]
  },
  {
   "cell_type": "code",
   "execution_count": null,
   "id": "bacb98ef",
   "metadata": {},
   "outputs": [],
   "source": []
  }
 ],
 "metadata": {
  "kernelspec": {
   "display_name": "Python 3 (ipykernel)",
   "language": "python",
   "name": "python3"
  },
  "language_info": {
   "codemirror_mode": {
    "name": "ipython",
    "version": 3
   },
   "file_extension": ".py",
   "mimetype": "text/x-python",
   "name": "python",
   "nbconvert_exporter": "python",
   "pygments_lexer": "ipython3",
   "version": "3.8.10"
  },
  "latex_envs": {
   "LaTeX_envs_menu_present": true,
   "autoclose": false,
   "autocomplete": true,
   "bibliofile": "biblio.bib",
   "cite_by": "apalike",
   "current_citInitial": 1,
   "eqLabelWithNumbers": true,
   "eqNumInitial": 1,
   "hotkeys": {
    "equation": "Ctrl-E",
    "itemize": "Ctrl-I"
   },
   "labels_anchors": false,
   "latex_user_defs": false,
   "report_style_numbering": false,
   "user_envs_cfg": false
  },
  "toc": {
   "base_numbering": 1,
   "nav_menu": {},
   "number_sections": true,
   "sideBar": true,
   "skip_h1_title": false,
   "title_cell": "Table of Contents",
   "title_sidebar": "Contents",
   "toc_cell": false,
   "toc_position": {},
   "toc_section_display": true,
   "toc_window_display": false
  }
 },
 "nbformat": 4,
 "nbformat_minor": 5
}
