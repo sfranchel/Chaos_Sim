{
 "cells": [
  {
   "cell_type": "code",
   "execution_count": 1,
   "id": "d8ffeac1",
   "metadata": {
    "ExecuteTime": {
     "end_time": "2023-03-12T17:54:32.880892Z",
     "start_time": "2023-03-12T17:54:32.404420Z"
    }
   },
   "outputs": [],
   "source": [
    "import matplotlib\n",
    "%matplotlib widget"
   ]
  },
  {
   "cell_type": "markdown",
   "id": "637f64a5",
   "metadata": {},
   "source": [
    "# Time Evolution Simulation"
   ]
  },
  {
   "cell_type": "code",
   "execution_count": 2,
   "id": "1ce3fbb1",
   "metadata": {
    "ExecuteTime": {
     "end_time": "2023-03-12T17:54:32.971508Z",
     "start_time": "2023-03-12T17:54:32.897647Z"
    },
    "scrolled": false
   },
   "outputs": [
    {
     "data": {
      "application/vnd.jupyter.widget-view+json": {
       "model_id": "39049db1a7bf4f109dc46dc9cc90977d",
       "version_major": 2,
       "version_minor": 0
      },
      "text/plain": [
       "GridspecLayout(children=(Button(description='Run', layout=Layout(grid_area='widget001', height='auto', width='…"
      ]
     },
     "execution_count": 2,
     "metadata": {},
     "output_type": "execute_result"
    }
   ],
   "source": [
    "from GUIS.simple_evolution import GUI\n",
    "GUI"
   ]
  },
  {
   "cell_type": "code",
   "execution_count": null,
   "id": "01daceee",
   "metadata": {
    "ExecuteTime": {
     "end_time": "2023-03-12T17:03:59.868644Z",
     "start_time": "2023-03-12T17:03:59.852639Z"
    }
   },
   "outputs": [],
   "source": []
  },
  {
   "cell_type": "markdown",
   "id": "f65cbb40",
   "metadata": {
    "heading_collapsed": true
   },
   "source": [
    "# Phase Bifurcation Simulation"
   ]
  },
  {
   "cell_type": "code",
   "execution_count": 3,
   "id": "ebcf4ccd",
   "metadata": {
    "ExecuteTime": {
     "end_time": "2023-03-12T17:49:43.908712Z",
     "start_time": "2023-03-12T17:49:43.817943Z"
    },
    "hidden": true
   },
   "outputs": [
    {
     "data": {
      "application/vnd.jupyter.widget-view+json": {
       "model_id": "a6956f84afd14f77aa5afb1aaa9775d9",
       "version_major": 2,
       "version_minor": 0
      },
      "text/plain": [
       "GridspecLayout(children=(Button(description='Run', layout=Layout(grid_area='widget001', height='auto', width='…"
      ]
     },
     "execution_count": 3,
     "metadata": {},
     "output_type": "execute_result"
    }
   ],
   "source": [
    "from GUIS.bifurcation import GUI\n",
    "GUI"
   ]
  },
  {
   "cell_type": "markdown",
   "id": "7f401277",
   "metadata": {},
   "source": [
    "# Poincare Simulation"
   ]
  },
  {
   "cell_type": "code",
   "execution_count": 3,
   "id": "73aad74b",
   "metadata": {
    "ExecuteTime": {
     "end_time": "2023-03-12T17:54:36.394971Z",
     "start_time": "2023-03-12T17:54:36.309411Z"
    }
   },
   "outputs": [
    {
     "data": {
      "application/vnd.jupyter.widget-view+json": {
       "model_id": "c1c5787a14504eb692663e6728cf9200",
       "version_major": 2,
       "version_minor": 0
      },
      "text/plain": [
       "GridspecLayout(children=(Button(description='Run', layout=Layout(grid_area='widget001', height='auto', width='…"
      ]
     },
     "execution_count": 3,
     "metadata": {},
     "output_type": "execute_result"
    }
   ],
   "source": [
    "from GUIS.Poincare import GUI\n",
    "GUI"
   ]
  },
  {
   "cell_type": "code",
   "execution_count": null,
   "id": "ecff9979",
   "metadata": {},
   "outputs": [],
   "source": []
  },
  {
   "cell_type": "code",
   "execution_count": null,
   "id": "6019be79",
   "metadata": {},
   "outputs": [],
   "source": []
  }
 ],
 "metadata": {
  "kernelspec": {
   "display_name": "Python 3 (ipykernel)",
   "language": "python",
   "name": "python3"
  },
  "language_info": {
   "codemirror_mode": {
    "name": "ipython",
    "version": 3
   },
   "file_extension": ".py",
   "mimetype": "text/x-python",
   "name": "python",
   "nbconvert_exporter": "python",
   "pygments_lexer": "ipython3",
   "version": "3.8.10"
  },
  "latex_envs": {
   "LaTeX_envs_menu_present": true,
   "autoclose": false,
   "autocomplete": true,
   "bibliofile": "biblio.bib",
   "cite_by": "apalike",
   "current_citInitial": 1,
   "eqLabelWithNumbers": true,
   "eqNumInitial": 1,
   "hotkeys": {
    "equation": "Ctrl-E",
    "itemize": "Ctrl-I"
   },
   "labels_anchors": false,
   "latex_user_defs": false,
   "report_style_numbering": false,
   "user_envs_cfg": false
  },
  "toc": {
   "base_numbering": 1,
   "nav_menu": {},
   "number_sections": true,
   "sideBar": true,
   "skip_h1_title": false,
   "title_cell": "Table of Contents",
   "title_sidebar": "Contents",
   "toc_cell": false,
   "toc_position": {},
   "toc_section_display": true,
   "toc_window_display": false
  }
 },
 "nbformat": 4,
 "nbformat_minor": 5
}
