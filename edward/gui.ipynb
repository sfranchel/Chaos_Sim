{
 "cells": [
  {
   "cell_type": "code",
   "execution_count": 3,
   "id": "130a296a",
   "metadata": {},
   "outputs": [],
   "source": [
    "from ipywidgets import Button, Layout, jslink, IntText, IntSlider, GridspecLayout\n",
    "from IPython.display import display\n",
    "import ipywidgets as widgets\n",
    "from ipywidgets import Button, HBox, VBox\n",
    "import matplotlib.pyplot as plt\n",
    "from numba import jit\n",
    "\n",
    "#%matplotlib inline\n",
    "\n",
    "grid = GridspecLayout(4, 3, height='600px')\n",
    "\n",
    "info_controllers = {\n",
    "    \"amplitude\" : {\"description\" : \"Amplitude\",\"value\" : 3},\n",
    "    \"frequence\" : {\"description\" : \"Fréquence\", \"value\": 0.2},\n",
    "    \"support_x0\" : {\"description\" : \"Support x0\", \"value\": 1},\n",
    "    \"support_absorbance\" : {\"description\" : \"Coeff rest.\", \"value\": 1},\n",
    "    \"ball_x0\": {\"description\" : \"Ball x0\", \"value\": 10},\n",
    "    \"ball_v0\": {\"description\" : \"Ball v0\", \"value\": 0},\n",
    "    \"dt\": {\"description\" : \"dt\", \"value\": 0.001},\n",
    "    \"tmax\" : {\"description\" : \"Tmax\", \"value\": 10},\n",
    "}\n",
    "\n",
    "list_controller = {key: widgets.FloatText(**info_controllers[key]) for key in info_controllers.keys()}\n",
    "\n",
    "sim_progression = widgets.FloatProgress(\n",
    "    value=0,\n",
    "    min=0,\n",
    "    max=100,\n",
    "    description=\"Progression\",\n",
    "    bar_style='info',\n",
    "    style={'bar_color': '#ffff00'},\n",
    "    orientation='horizontal'\n",
    ")\n",
    "\n",
    "run_button = Button(description=\"RUN\")\n",
    "\n",
    "command_box = VBox(list(list_controller.values()))\n",
    "\n",
    "plot_output = widgets.Output()\n"
   ]
  },
  {
   "cell_type": "code",
   "execution_count": 4,
   "id": "08d93330",
   "metadata": {},
   "outputs": [
    {
     "data": {
      "application/vnd.jupyter.widget-view+json": {
       "model_id": "4460b3e1746e448289317a50cc4660c4",
       "version_major": 2,
       "version_minor": 0
      },
      "text/plain": [
       "GridspecLayout(children=(Output(layout=Layout(grid_area='widget001')), Button(description='RUN', layout=Layout…"
      ]
     },
     "metadata": {},
     "output_type": "display_data"
    }
   ],
   "source": [
    "from chaos_dt.ball import Ball\n",
    "from chaos_dt.support import Support\n",
    "from chaos_dt.simulator import Simulator\n",
    "import matplotlib.pyplot as plt\n",
    "import numpy as np\n",
    "\n",
    "\n",
    "\n",
    "\n",
    "@plot_output.capture()\n",
    "def run_sim():\n",
    "    plot_output.clear_output()\n",
    "    plt.gca()\n",
    "    dt = list_controller[\"dt\"].value\n",
    "    #dt = 0.1\n",
    "    #ball= Ball(10,0)\n",
    "    #support = Support(A=2, f = 0.3, x0 = 1)\n",
    "    #simulator = Simulator(support= support, ball= ball)\n",
    "    ball = Ball(list_controller[\"ball_x0\"].value,list_controller[\"ball_v0\"].value)\n",
    "    support = Support(A=list_controller[\"amplitude\"].value, f=list_controller[\"frequence\"].value, x0=list_controller[\"support_x0\"].value, absorbance=list_controller[\"support_absorbance\"].value)\n",
    "    simulator = Simulator(support=support, ball=ball)\n",
    "    \n",
    "    #for i in simulator.run_simulation(dt=dt, tmax=list_controller[\"tmax\"].value):\n",
    "    #for i in simulator.run_simulation(dt=dt, tmax=10):\n",
    "        #sim_progression.value = i\n",
    "    simulator.run_simulation(dt=dt, tmax=list_controller[\"tmax\"].value)\n",
    "    h = simulator.get_history()\n",
    "\n",
    "    plt.plot(h[\"ball_pos\"], marker=\"\")\n",
    "    plt.plot(h[\"supp_pos\"])\n",
    "    plt.show()\n",
    "    \n",
    "def on_button_click(b):\n",
    "    run_sim()\n",
    "\n",
    "    \n",
    "    \n",
    "run_button.on_click(on_button_click)\n",
    "\n",
    "\n",
    "\n",
    "grid[:3, 1:] = plot_output\n",
    "grid[3, 1] = run_button\n",
    "grid[3, 2] = sim_progression\n",
    "grid[:, 0] = command_box\n",
    "display(grid)\n"
   ]
  },
  {
   "cell_type": "code",
   "execution_count": null,
   "id": "3fcd48a5",
   "metadata": {},
   "outputs": [],
   "source": [
    "!which python3"
   ]
  },
  {
   "cell_type": "code",
   "execution_count": null,
   "id": "bac5979e",
   "metadata": {},
   "outputs": [],
   "source": []
  },
  {
   "cell_type": "code",
   "execution_count": null,
   "id": "e1c51dfc",
   "metadata": {},
   "outputs": [],
   "source": []
  }
 ],
 "metadata": {
  "kernelspec": {
   "display_name": "Python 3 (ipykernel)",
   "language": "python",
   "name": "python3"
  },
  "language_info": {
   "codemirror_mode": {
    "name": "ipython",
    "version": 3
   },
   "file_extension": ".py",
   "mimetype": "text/x-python",
   "name": "python",
   "nbconvert_exporter": "python",
   "pygments_lexer": "ipython3",
   "version": "3.9.6"
  }
 },
 "nbformat": 4,
 "nbformat_minor": 5
}
